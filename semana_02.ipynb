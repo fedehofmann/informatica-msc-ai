{
 "cells": [
  {
   "cell_type": "code",
   "execution_count": 2,
   "metadata": {},
   "outputs": [],
   "source": [
    "# Ejercicio 1\n",
    "def invertir_lista (lista):\n",
    "  lista_2 = []\n",
    "  for i in range (1, len(lista)):\n",
    "    lista_2.append(lista[-i])\n",
    "  return lista_2"
   ]
  },
  {
   "cell_type": "code",
   "execution_count": 3,
   "metadata": {},
   "outputs": [],
   "source": [
    "# Ejercicio 2 - Quiero que devuelva la cantidad de pasos, tengo que pensar en cantidad de pasos\n",
    "def collatz (nro):\n",
    "  if nro == 1:\n",
    "    return 0 # Llegar al 1 no cuenta como un paso\n",
    "  else:\n",
    "      if nro % 2 == 0:\n",
    "        valor = nro // 2\n",
    "      else:\n",
    "        valor = nro * 3 + 1\n",
    "      return 1 + collatz(valor) # Cada llamada recursiva implica un nuevo paso, a menos que llegue al 1 y me va a retornar 0"
   ]
  },
  {
   "cell_type": "code",
   "execution_count": 4,
   "metadata": {},
   "outputs": [],
   "source": [
    "# Ejercicio 2 - Se me ocurrió que es mucho más fácil usando un while\n",
    "def collatz (nro):\n",
    "    cont = 0 # El contador arranca en -\n",
    "    while nro != 1: # El ciclo se va a repetir hasta que el número sea igual a 1\n",
    "        if nro % 2 == 0:\n",
    "          nro = nro // 2\n",
    "        else:\n",
    "          nro = nro * 3 + 1\n",
    "        cont += 1 # Sumo un paso al contador\n",
    "    return cont"
   ]
  },
  {
   "cell_type": "code",
   "execution_count": 5,
   "metadata": {},
   "outputs": [],
   "source": [
    "# Ejercicio 3 a)\n",
    "def contar_definiciones(d):\n",
    "    resultado = {}\n",
    "    for i in d:  # i es la clave del diccionario (ej: \"Federico\", \"Santiago\")\n",
    "        cont = len(d[i])  # d[i] es la lista de definiciones asociada a esa clave\n",
    "        resultado[i] = cont  # Guardo la cantidad de definiciones para esa clave\n",
    "    return resultado"
   ]
  },
  {
   "cell_type": "code",
   "execution_count": 6,
   "metadata": {},
   "outputs": [],
   "source": [
    "# Ejercicio 3 b)\n",
    "def cantidad_de_claves_letra (d, l):\n",
    "  cantidad = 0\n",
    "  for i in d: # i es la clave del diccionario (ej: \"Federico\", \"Santiago\")\n",
    "    for x in i: # x va a recorrer el string clave\n",
    "      if x[0] == l: # Le pido que la primera letra de cada string sea igual a l\n",
    "        cantidad += 1\n",
    "  return cantidad"
   ]
  },
  {
   "cell_type": "code",
   "execution_count": 7,
   "metadata": {},
   "outputs": [],
   "source": [
    "# Ejercicio 4\n",
    "def propagar(l):\n",
    "    # Propago hacia la derecha\n",
    "    for i in range(0, len(l)):  # Recorro toda la lista\n",
    "      if l[i] == 1:  # Si encuentro un fósforo encendido\n",
    "        for x in range(i + 1, len(l)):  # Recorro desde una posición más adelante de la lista porque necesito comparar con el que tiene adelante\n",
    "            if l[x] == -1:  # Si encuentro un fósforo negro freno\n",
    "                break\n",
    "            if l[x] == 0:  # Si encuentro un fósforo rojo lo enciendo\n",
    "                l[x] = 1\n",
    "    # Propago hacia la izquierda (misma lógica pero barriendo la lista de atrás hacia adelante)\n",
    "    for i in range (len(l)-1, -1, -1):\n",
    "      if l[i] == 1:\n",
    "        for x in range (len(l)- 1- i, -1, -1):\n",
    "          if l[x] == -1:\n",
    "            break\n",
    "          if l[x] == 0:\n",
    "            l[x] = 1   \n",
    "    return l"
   ]
  }
 ],
 "metadata": {
  "kernelspec": {
   "display_name": "Python 3",
   "language": "python",
   "name": "python3"
  },
  "language_info": {
   "codemirror_mode": {
    "name": "ipython",
    "version": 3
   },
   "file_extension": ".py",
   "mimetype": "text/x-python",
   "name": "python",
   "nbconvert_exporter": "python",
   "pygments_lexer": "ipython3",
   "version": "3.11.11"
  }
 },
 "nbformat": 4,
 "nbformat_minor": 2
}
